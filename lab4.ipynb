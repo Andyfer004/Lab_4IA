{
 "cells": [
  {
   "cell_type": "markdown",
   "metadata": {},
   "source": [
    "# Laboratorio 4 - Inteligencia Artificial\n",
    "\n",
    "## Autores:\n",
    "\n",
    "- Nelson García\n",
    "- Andy Fuentes\n",
    "- Davis Roldan\n",
    "- Ricardo Chuy\n",
    "- Diederich Solís"
   ]
  },
  {
   "cell_type": "markdown",
   "metadata": {},
   "source": [
    "## Task 1 - Preguntas teóricas"
   ]
  },
  {
   "cell_type": "markdown",
   "metadata": {},
   "source": [
    "## Task 2 - Ejercicios Prácticos"
   ]
  },
  {
   "cell_type": "markdown",
   "metadata": {},
   "source": [
    "### Task 2.1 - K-Means y Segmentación de Clientes de Banco"
   ]
  },
  {
   "cell_type": "markdown",
   "metadata": {},
   "source": [
    "### Ejercicio realizado con librerias\n",
    "\n",
    "Ahora se realizará el mismo ejercicio de segmentacion de clientes pero utilizando las librerias apropiadas para usar el algoritmo de K-Medias. Con esto se busca realizar grupos con el set de datos de clientes de banco."
   ]
  },
  {
   "cell_type": "markdown",
   "metadata": {},
   "source": [
    "### Task 2.2 - Mixture Modelos y Segmentación de Clientes de Banco"
   ]
  }
 ],
 "metadata": {
  "language_info": {
   "name": "python"
  }
 },
 "nbformat": 4,
 "nbformat_minor": 2
}
